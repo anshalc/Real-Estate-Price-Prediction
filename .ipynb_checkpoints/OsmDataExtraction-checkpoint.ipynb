{
 "cells": [
  {
   "cell_type": "code",
   "execution_count": 1,
   "id": "d67c79d1",
   "metadata": {},
   "outputs": [],
   "source": [
    "import overpy\n",
    "import pandas as pd\n",
    "import numpy as np\n",
    "import requests"
   ]
  },
  {
   "cell_type": "code",
   "execution_count": 2,
   "id": "f1014b07",
   "metadata": {},
   "outputs": [],
   "source": [
    "# Code from:\n",
    "# https://github.com/nikhilnagargit/OpenStreetMapDataExtraction"
   ]
  },
  {
   "cell_type": "code",
   "execution_count": 3,
   "id": "4a3c8849",
   "metadata": {},
   "outputs": [],
   "source": [
    "def get_amenities():\n",
    "    prefix = \"\"\"[out:json][timeout:350][maxsize:2000000000];(node[\"amenity\"](around:\"\"\" #this is string of syntex in 'Overpass QL' language\n",
    "    suffix = \"\"\"););out body;>;out skel qt;\"\"\"\t\t\t\t\t\t\t      #this is string of syntex in 'Overpass QL' language\n",
    "    q = '99999'+','+'47.28'+','+'-121.50'      #(radius,latitude,longitude) in a string from the user input\n",
    "    built_query = prefix + q + suffix                           #arrange all above strings into a correct order to form complete query\n",
    "    return built_query"
   ]
  },
  {
   "cell_type": "code",
   "execution_count": 4,
   "id": "f30b378b",
   "metadata": {},
   "outputs": [],
   "source": [
    "def extract_nodes_data_from_OSM(built_query):\n",
    "    api = overpy.Overpass()                       # creating a overpass API instance \n",
    "    result = api.query(built_query)               # get result from API by sending the query to overpass servers\n",
    "    list_of_node_tags = []                        # initializing empty list , we'll use it to form a dataframe .\n",
    "    for node in result.nodes:                     # from each node , get the all tags information\n",
    "        node.tags['latitude'] =  node.lat\n",
    "        node.tags['longitude'] = node.lon\n",
    "        node.tags['id'] = node.id\n",
    "        list_of_node_tags.append(node.tags)\n",
    "    data_frame = pd.DataFrame(list_of_node_tags)  # forming a pandas dataframe using list of dictionaries\n",
    "    return data_frame"
   ]
  },
  {
   "cell_type": "code",
   "execution_count": 5,
   "id": "2737c947",
   "metadata": {},
   "outputs": [],
   "source": [
    "query = get_amenities()\n",
    "data = extract_nodes_data_from_OSM(query)\n",
    "data.to_csv('amenity_data.csv')"
   ]
  },
  {
   "cell_type": "code",
   "execution_count": null,
   "id": "56a59e04",
   "metadata": {},
   "outputs": [],
   "source": []
  }
 ],
 "metadata": {
  "kernelspec": {
   "display_name": "Python 3",
   "language": "python",
   "name": "python3"
  },
  "language_info": {
   "codemirror_mode": {
    "name": "ipython",
    "version": 3
   },
   "file_extension": ".py",
   "mimetype": "text/x-python",
   "name": "python",
   "nbconvert_exporter": "python",
   "pygments_lexer": "ipython3",
   "version": "3.8.8"
  }
 },
 "nbformat": 4,
 "nbformat_minor": 5
}
